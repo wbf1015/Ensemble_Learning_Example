{
 "cells": [
  {
   "cell_type": "code",
   "execution_count": 11,
   "metadata": {
    "collapsed": true
   },
   "outputs": [
    {
     "name": "stdout",
     "output_type": "stream",
     "text": [
      "Accuracy: 0.032 (0.006)\n"
     ]
    }
   ],
   "source": [
    "# 调库实现Bagging算法\n",
    "from numpy import mean\n",
    "from numpy import std\n",
    "from sklearn.datasets import make_classification\n",
    "from sklearn.model_selection import cross_val_score\n",
    "from sklearn.model_selection import RepeatedStratifiedKFold\n",
    "from sklearn.ensemble import BaggingClassifier\n",
    "\n",
    "# x.shape = (1000, 20) y.shape=(1000)\n",
    "x, y  = make_classification(n_samples=10000, n_features=32, n_informative=5, n_redundant=0, n_classes=145 ,random_state=5) # 生成1000个样本， 有20个特征， 信息特征有15个， 冗余特征是5个， 目标的分类类别是3类， random_state是随机数\n",
    "model = BaggingClassifier() # 声明一个Bagging集成分类器\n",
    "\n",
    "cv = RepeatedStratifiedKFold(n_splits=10, n_repeats=3, random_state=1) #n_splits是折的数目； n_repeats交叉验证需要重复的次数； random_state是随机数状态; 能够生成的train_index和test_index的组合数量就是n_splits * n_repeats\n",
    "\n",
    "# 使用下面的代码来查看十折交叉验证的结果\n",
    "# for train_index, test_index in cv.split(x,y):\n",
    "#     print(train_index, test_index)\n",
    "\n",
    "n_scores = cross_val_score(model,x, y, scoring='accuracy', cv=cv, n_jobs=-1, error_score='raise')\n",
    "\n",
    "print('Accuracy: %.3f (%.3f)' % (mean(n_scores), std(n_scores)))"
   ]
  }
 ],
 "metadata": {
  "kernelspec": {
   "display_name": "Python 3",
   "language": "python",
   "name": "python3"
  },
  "language_info": {
   "codemirror_mode": {
    "name": "ipython",
    "version": 2
   },
   "file_extension": ".py",
   "mimetype": "text/x-python",
   "name": "python",
   "nbconvert_exporter": "python",
   "pygments_lexer": "ipython2",
   "version": "2.7.6"
  }
 },
 "nbformat": 4,
 "nbformat_minor": 0
}
